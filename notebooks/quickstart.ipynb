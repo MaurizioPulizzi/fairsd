{
 "cells": [
  {
   "cell_type": "markdown",
   "id": "proper-mustang",
   "metadata": {},
   "source": [
    "# Quick start -- Use Case Example\n",
    "For this example is used the [UCI adult dataset](https://archive.ics.uci.edu/ml/datasets/Adult) where the objective is to predict whether a person makes more (label 1) or less (0) than $50,000 a year."
   ]
  },
  {
   "cell_type": "code",
   "execution_count": 1,
   "id": "authorized-better",
   "metadata": {},
   "outputs": [],
   "source": [
    "import pandas as pd\n",
    "from sklearn.datasets import fetch_openml\n",
    "from sklearn.tree import DecisionTreeClassifier\n",
    "\n",
    "#Import dataset\n",
    "d = fetch_openml(data_id=1590, as_frame=True)\n",
    "X = d.data\n",
    "d_train=pd.get_dummies(X)\n",
    "y_true = (d.target == '>50K') * 1\n",
    "\n",
    "#training the classifier\n",
    "classifier = DecisionTreeClassifier(min_samples_leaf=10, max_depth=4)\n",
    "classifier.fit(d_train, y_true)\n",
    "\n",
    "#Producing y_pred\n",
    "y_pred = classifier.predict(d_train)"
   ]
  },
  {
   "cell_type": "markdown",
   "id": "adolescent-damage",
   "metadata": {},
   "source": [
    "## Use of the FairSD package\n",
    "Here we use the DSSD (Diverse Subgroup Set Discovery) algorithm and the demographic_parity_difference (from Fairlearn) to find the top-k (k = 5 by default) discriminated subgroups.<br/>\n",
    "The execute method return a **ResultSet object**."
   ]
  },
  {
   "cell_type": "code",
   "execution_count": 2,
   "id": "talented-dynamics",
   "metadata": {},
   "outputs": [],
   "source": [
    "import fairsd as fsd\n",
    "task=fsd.SubgroupDiscoveryTask(X, y_true, y_pred, qf = \"demographic_parity_difference\")\n",
    "result_set=fsd.DSSD().execute(task)"
   ]
  },
  {
   "cell_type": "markdown",
   "id": "liked-paradise",
   "metadata": {},
   "source": [
    "### ResultSet object"
   ]
  },
  {
   "cell_type": "markdown",
   "id": "blind-official",
   "metadata": {},
   "source": [
    "We can transform the result set into a dataframe as shown below. Each row of this dataframe represents a subgroup."
   ]
  },
  {
   "cell_type": "code",
   "execution_count": 3,
   "id": "european-relaxation",
   "metadata": {
    "scrolled": true
   },
   "outputs": [
    {
     "data": {
      "text/html": [
       "<div>\n",
       "<style scoped>\n",
       "    .dataframe tbody tr th:only-of-type {\n",
       "        vertical-align: middle;\n",
       "    }\n",
       "\n",
       "    .dataframe tbody tr th {\n",
       "        vertical-align: top;\n",
       "    }\n",
       "\n",
       "    .dataframe thead th {\n",
       "        text-align: right;\n",
       "    }\n",
       "</style>\n",
       "<table border=\"1\" class=\"dataframe\">\n",
       "  <thead>\n",
       "    <tr style=\"text-align: right;\">\n",
       "      <th></th>\n",
       "      <th>quality</th>\n",
       "      <th>description</th>\n",
       "      <th>size</th>\n",
       "      <th>proportion</th>\n",
       "    </tr>\n",
       "  </thead>\n",
       "  <tbody>\n",
       "    <tr>\n",
       "      <th>sg0</th>\n",
       "      <td>0.913502</td>\n",
       "      <td>education = 'Bachelors' AND marital-status = '...</td>\n",
       "      <td>4136</td>\n",
       "      <td>0.084681</td>\n",
       "    </tr>\n",
       "    <tr>\n",
       "      <th>sg1</th>\n",
       "      <td>0.913502</td>\n",
       "      <td>education-num = '(12.0, 13.0]' AND marital-sta...</td>\n",
       "      <td>4136</td>\n",
       "      <td>0.084681</td>\n",
       "    </tr>\n",
       "    <tr>\n",
       "      <th>sg2</th>\n",
       "      <td>0.866879</td>\n",
       "      <td>capital-gain = '(6849.0, +infinite]' AND fnlwg...</td>\n",
       "      <td>2036</td>\n",
       "      <td>0.041685</td>\n",
       "    </tr>\n",
       "    <tr>\n",
       "      <th>sg3</th>\n",
       "      <td>0.863130</td>\n",
       "      <td>education = 'Masters' AND marital-status = 'Ma...</td>\n",
       "      <td>1527</td>\n",
       "      <td>0.031264</td>\n",
       "    </tr>\n",
       "    <tr>\n",
       "      <th>sg4</th>\n",
       "      <td>0.853604</td>\n",
       "      <td>education-num = '(14.0, +infinite]' AND marita...</td>\n",
       "      <td>999</td>\n",
       "      <td>0.020454</td>\n",
       "    </tr>\n",
       "  </tbody>\n",
       "</table>\n",
       "</div>"
      ],
      "text/plain": [
       "      quality                                        description  size  \\\n",
       "sg0  0.913502  education = 'Bachelors' AND marital-status = '...  4136   \n",
       "sg1  0.913502  education-num = '(12.0, 13.0]' AND marital-sta...  4136   \n",
       "sg2  0.866879  capital-gain = '(6849.0, +infinite]' AND fnlwg...  2036   \n",
       "sg3  0.863130  education = 'Masters' AND marital-status = 'Ma...  1527   \n",
       "sg4  0.853604  education-num = '(14.0, +infinite]' AND marita...   999   \n",
       "\n",
       "     proportion  \n",
       "sg0    0.084681  \n",
       "sg1    0.084681  \n",
       "sg2    0.041685  \n",
       "sg3    0.031264  \n",
       "sg4    0.020454  "
      ]
     },
     "metadata": {},
     "output_type": "display_data"
    }
   ],
   "source": [
    "df=result_set.to_dataframe()\n",
    "display(df)"
   ]
  },
  {
   "cell_type": "markdown",
   "id": "steady-version",
   "metadata": {},
   "source": [
    "We can also print the result set or convert it into a string as shown below."
   ]
  },
  {
   "cell_type": "code",
   "execution_count": 4,
   "id": "continuing-quarter",
   "metadata": {},
   "outputs": [
    {
     "name": "stdout",
     "output_type": "stream",
     "text": [
      "education = 'Bachelors' AND marital-status = 'Married-civ-spouse' \n",
      "education-num = '(12.0, 13.0]' AND marital-status = 'Married-civ-spouse' \n",
      "capital-gain = '(6849.0, +infinite]' AND fnlwgt = '(24763.0, +infinite]' \n",
      "education = 'Masters' AND marital-status = 'Married-civ-spouse' \n",
      "education-num = '(14.0, +infinite]' AND marital-status = 'Married-civ-spouse' \n",
      "\n"
     ]
    }
   ],
   "source": [
    "resultset_string = result_set.to_string()\n",
    "print(result_set)"
   ]
  },
  {
   "cell_type": "markdown",
   "id": "difficult-rendering",
   "metadata": {},
   "source": [
    "### Generate a feature from a subgroup\n",
    "ResultSet basically contains a list of subgroup descriptions ([Description](https://github.com/MaurizioPulizzi/fairsd/blob/main/fairsd/sgdescription.py#L80) object).<br/>\n",
    "Another intresting method of Resultset object allow us to \n",
    "**select a subgroup X from the result set and automatically generate the feature \"Belong to subgroup X\"**.This is very useful for deepening the analysis on the found subgroups, for example we can use the FairLearn library for this purpose.<br/>\n",
    "An example is shown below:"
   ]
  },
  {
   "cell_type": "code",
   "execution_count": 12,
   "id": "covered-falls",
   "metadata": {},
   "outputs": [
    {
     "name": "stdout",
     "output_type": "stream",
     "text": [
      "sg0\n",
      "False    0.0864985\n",
      "True             1\n",
      "Name: selection_rate, dtype: object\n"
     ]
    }
   ],
   "source": [
    "from fairlearn.metrics import MetricFrame\n",
    "from fairlearn.metrics import selection_rate\n",
    "\n",
    "# Here we generate the feature \"Belong to subgroup n. 0\"\n",
    "# The result is a pandas Series. The name of this Series is \"sg0\".\n",
    "# This series contains an element for each instance of the dataset. Each element is True \n",
    "# iff the istance belong to the subgroup sg0\n",
    "sg_feature = result_set.sg_feature(sg_index=0, X=X)\n",
    "\n",
    "# Here we basically use the FairLearn library to further analyzing the subgroup sg0\n",
    "selection_rate = MetricFrame(selection_rate, y_true, y_pred, sensitive_features=sg_feature)\n",
    "print(selection_rate.by_group)"
   ]
  }
 ],
 "metadata": {
  "kernelspec": {
   "display_name": "Python 3",
   "language": "python",
   "name": "python3"
  },
  "language_info": {
   "codemirror_mode": {
    "name": "ipython",
    "version": 3
   },
   "file_extension": ".py",
   "mimetype": "text/x-python",
   "name": "python",
   "nbconvert_exporter": "python",
   "pygments_lexer": "ipython3",
   "version": "3.8.3"
  }
 },
 "nbformat": 4,
 "nbformat_minor": 5
}
