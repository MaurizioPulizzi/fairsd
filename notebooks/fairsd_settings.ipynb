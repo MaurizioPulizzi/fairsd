{
 "cells": [
  {
   "cell_type": "markdown",
   "id": "compliant-oregon",
   "metadata": {},
   "source": [
    "# FairSD settings\n",
    "For this example is used the UCI adult dataset where the objective is to predict whether a person makes more (label 1) or less (0) than $50,000 a year."
   ]
  },
  {
   "cell_type": "code",
   "execution_count": 1,
   "id": "illegal-american",
   "metadata": {},
   "outputs": [],
   "source": [
    "import pandas as pd\n",
    "import numpy as np\n",
    "from sklearn.datasets import fetch_openml\n",
    "from sklearn.tree import DecisionTreeClassifier\n",
    "#Import dataset\n",
    "d = fetch_openml(data_id=1590, as_frame=True)\n",
    "X = d.data\n",
    "d_train=pd.get_dummies(X)\n",
    "y_true = (d.target == '>50K') * 1\n",
    "#training the classifier\n",
    "classifier = DecisionTreeClassifier(min_samples_leaf=10, max_depth=4)\n",
    "classifier.fit(d_train, y_true)\n",
    "#Producing y_pred\n",
    "y_pred = classifier.predict(d_train)"
   ]
  },
  {
   "cell_type": "markdown",
   "id": "private-origin",
   "metadata": {},
   "source": [
    "## SubgroupDiscoveryTask Object\n",
    "This class will contain all the parameters useful for the sg discovery algorithms.<br/>\n",
    "**<u>Parameters</u>:**"
   ]
  },
  {
   "cell_type": "markdown",
   "id": "reverse-kinase",
   "metadata": {},
   "source": [
    "|name |type |default value |description\n",
    "|:-----|:-----|:-----|:----- \n",
    "|X| pandas.Dataframe or <br/> numpy.ndarray| |dataset.\n",
    "|y_true| pandas.Dataframe,<br/> pandas.Series or <br/> numpy.ndarray| |ground truth.\n",
    "|y_pred| pandas.Dataframe,<br/> pandas.Series or <br/> numpy.ndarray| |predicted label.\n",
    "|feature_names| list of strings| None| see below.\n",
    "|nominal_features| list of strings| None| see below.\n",
    "|numeric_features| list of strings| None| see below.\n",
    "|qf | String or <br/>callable object| 'equalized_odds_difference'| quality function to use.\n",
    "|discretizer| String| 'equalfreq'| see below.\n",
    "|num_bins | int| 6|  see below.\n",
    "|dynamic_discretization| bool| True| see below.\n",
    "|result_set_size| int| 5| maximum number of subgroups <br/>that the sg discovery will return.\n",
    "|depth| int| 3| maximum number of descriptors<br/> that a description can contain.\n",
    "|min_quality| float| 0.1| minimum quality<br/> that a subgroup needs to be selected. \n",
    "|min_support| int| 200| minimum size <br/>that a subgroup needs to be selected. "
   ]
  },
  {
   "cell_type": "markdown",
   "id": "geographic-limitation",
   "metadata": {},
   "source": [
    "### X and feature_names\n",
    "X parameters can be a Pandas DataFrame or a Numpy array. If we pass a numpy array we must also pass the feature_names parameter, a list with the column names of X:"
   ]
  },
  {
   "cell_type": "code",
   "execution_count": 2,
   "id": "southwest-chemistry",
   "metadata": {},
   "outputs": [],
   "source": [
    "import fairsd as fsd\n",
    "task=fsd.SubgroupDiscoveryTask(X, y_true, y_pred) # X is a pandas.Dataframe\n",
    "\n",
    "#X as numpy array\n",
    "x_np    = X.to_numpy()\n",
    "columns = list(X.columns)\n",
    "task=fsd.SubgroupDiscoveryTask(X, y_true, y_pred, feature_names = columns)"
   ]
  },
  {
   "cell_type": "markdown",
   "id": "about-storm",
   "metadata": {},
   "source": [
    "### nominal_features and numeric_features\n",
    "These two parameters (string list type) are used to specify which columns of X have nominal values and which ones have numeric values. For attributes that do not appear in either of the two list, the data type will be automatically inferred.<br/>\n",
    "**Example:**<br/>\n",
    "    Let's analize the education-num attribute"
   ]
  },
  {
   "cell_type": "code",
   "execution_count": 3,
   "id": "biological-liabilities",
   "metadata": {},
   "outputs": [
    {
     "name": "stdout",
     "output_type": "stream",
     "text": [
      "[ 1.  2.  3.  4.  5.  6.  7.  8.  9. 10. 11. 12. 13. 14. 15. 16.]\n"
     ]
    }
   ],
   "source": [
    "educationnum_val = X['education-num'].unique()\n",
    "print(np.sort(educationnum_val))"
   ]
  },
  {
   "cell_type": "markdown",
   "id": "naval-leadership",
   "metadata": {},
   "source": [
    "The values of this attribute are integer number from 1 to 16. <br/>\n",
    "The package would treat this attribute as numeric by default, but if we want to treat it as a nominal attribute we can use the nominal_features parameter:"
   ]
  },
  {
   "cell_type": "code",
   "execution_count": 4,
   "id": "unauthorized-oriental",
   "metadata": {},
   "outputs": [],
   "source": [
    "task=fsd.SubgroupDiscoveryTask(X, y_true, y_pred, nominal_features = ['education-num'])"
   ]
  },
  {
   "cell_type": "markdown",
   "id": "possible-wilderness",
   "metadata": {},
   "source": [
    "### discretizer\n",
    "This parameter determine the algorithm that will perform the numerical features discretization.\n",
    "It is set to 'equalfreq' by default but other options are possible:<br/>"
   ]
  },
  {
   "cell_type": "markdown",
   "id": "manufactured-algorithm",
   "metadata": {},
   "source": [
    "|dicretizer parameter |description \n",
    "|:-----|:----- \n",
    "|'eualfreq'|approximate equal frequency discretization.\n",
    "|'equalwidth'|equal width discretization.\n",
    "|'mdlp'|minimum description length principle discretization (Fayyad and Irani approach)."
   ]
  },
  {
   "cell_type": "code",
   "execution_count": 5,
   "id": "blocked-morning",
   "metadata": {},
   "outputs": [],
   "source": [
    "#example\n",
    "task=fsd.SubgroupDiscoveryTask(X, y_true, y_pred, discretizer='mdlp')"
   ]
  },
  {
   "cell_type": "markdown",
   "id": "developmental-orbit",
   "metadata": {},
   "source": [
    "### num_bins\n",
    "This parameter determine the maximum number of bins that a numerical feature discretization operation will produce. The number of produced bins could also be less than num_bins due to the min_support constraint:<br/>\n",
    "* the equal-frequency and mdlp discretizations will never produce bins with size lower than min_support, as we know in advance that these bins could never be used to create a description with large enough support.<br/>\n",
    "\n",
    "If a value lower than two is used, the number of bins will be automatically decided.\n"
   ]
  },
  {
   "cell_type": "code",
   "execution_count": 6,
   "id": "focused-patrick",
   "metadata": {},
   "outputs": [],
   "source": [
    "#example\n",
    "task=fsd.SubgroupDiscoveryTask(X, y_true, y_pred, discretizer='equalwidth', num_bins = 4)"
   ]
  },
  {
   "cell_type": "markdown",
   "id": "periodic-glass",
   "metadata": {},
   "source": [
    "### dynamic_discretization\n",
    "If is set to False, the discretization of numeric features will be done only once for each numerical feature before starting the subgroup discovery algorithm.<br/>\n",
    "If instead is set to True, the discretization of numerical featues will be integrated with the subgroup discovery algorithm: will be done each time the algorithm will try to expand a description with a numerical attribute."
   ]
  },
  {
   "cell_type": "code",
   "execution_count": 7,
   "id": "hispanic-boulder",
   "metadata": {},
   "outputs": [],
   "source": [
    "#example\n",
    "task=fsd.SubgroupDiscoveryTask(X, y_true, y_pred, dynamic_discretization = False)"
   ]
  },
  {
   "cell_type": "markdown",
   "id": "interstate-edinburgh",
   "metadata": {},
   "source": [
    "## Qaulity Measures\n",
    "### Fairlearn Quality measures\n",
    "All the Fairlear metrics can be used as quality measure (qf parameter in SubgroupDiscoveryTask object). See the Fairlearn documentation [here](https://fairlearn.github.io/v0.6.0/api_reference/fairlearn.metrics.html).<br/>\n",
    "**The predefined fairlearn metrics are:**\n"
   ]
  },
  {
   "cell_type": "markdown",
   "id": "premium-charlotte",
   "metadata": {},
   "source": [
    "|Metric name | Description\n",
    "|:-----|:-----\n",
    "| demographic_parity_difference |  Defined as the absolute value of the difference in the **selection rates** between a subgroup and its negation.\n",
    "|demographic_parity_ratio | Defined as the ratio between the smallest and the largest group-level **selection rate**, between a subgroup and its negation.\n",
    "|equalized_odds_difference | The greater of two metrics: true_positive_rate_difference and false_positive_rate_difference. The former is the difference between the TPRs, between a subgroup and its negation. The latter is defined similarly, but for FPRs.\n",
    "|equalized_odds_ratio | The smaller of two metrics: true_positive_rate_ratio and false_positive_rate_ratio. The former is the ratio between the TPRs, between a subgroup and its negation. The latter is defined similarly, but for FPRs."
   ]
  },
  {
   "cell_type": "markdown",
   "id": "upset-broadcasting",
   "metadata": {},
   "source": [
    "We can inizialize a SubgroupDiscoveryTask object in this way:"
   ]
  },
  {
   "cell_type": "code",
   "execution_count": 8,
   "id": "labeled-retail",
   "metadata": {},
   "outputs": [],
   "source": [
    "import fairsd as fsd\n",
    "from fairlearn.metrics import demographic_parity_ratio\n",
    "task = fsd.SubgroupDiscoveryTask(X, y_true, y_pred, demographic_parity_ratio)"
   ]
  },
  {
   "cell_type": "markdown",
   "id": "personalized-munich",
   "metadata": {},
   "source": [
    "Or, faster, for this four predefined fairlearn metrics, we can pass the same metric as a string:"
   ]
  },
  {
   "cell_type": "code",
   "execution_count": 9,
   "id": "directed-robin",
   "metadata": {},
   "outputs": [],
   "source": [
    "task = fsd.SubgroupDiscoveryTask(X, y_true, y_pred, 'demographic_parity_ratio')"
   ]
  },
  {
   "cell_type": "markdown",
   "id": "subjective-carrier",
   "metadata": {},
   "source": [
    "From the version 6.0, Fairlearn also offers the interesting possibility of \"create a scalar returning metric function based on aggregation of a disaggregated metric\".<br/>\n",
    "**Example:**"
   ]
  },
  {
   "cell_type": "code",
   "execution_count": 10,
   "id": "efficient-tolerance",
   "metadata": {},
   "outputs": [],
   "source": [
    "from sklearn.metrics import accuracy_score\n",
    "from fairlearn.metrics import make_derived_metric\n",
    "derived_metric = make_derived_metric(metric = accuracy_score, transform = 'difference')\n",
    "task = fsd.SubgroupDiscoveryTask(X, y_true, y_pred, derived_metric)"
   ]
  },
  {
   "cell_type": "markdown",
   "id": "solid-nutrition",
   "metadata": {},
   "source": [
    "For more details see the Fairlearn documentation."
   ]
  },
  {
   "cell_type": "markdown",
   "id": "distinguished-tonight",
   "metadata": {},
   "source": [
    "### Customized Quality Measures\n",
    "It is possible to create a quality measure by estending the class [QualityFunction](https://github.com/MaurizioPulizzi/fairsd/blob/main/fairsd/qualitymeasures.py#L3):"
   ]
  },
  {
   "cell_type": "code",
   "execution_count": 11,
   "id": "eligible-british",
   "metadata": {},
   "outputs": [],
   "source": [
    "class MyQualityMeasure(fsd.QualityFunction):\n",
    "    def evaluate(self, y_true = None, y_pred=None, sensitive_features=None):\n",
    "        return 0.5\n",
    "    \n",
    "task = fsd.SubgroupDiscoveryTask(X, y_true, y_pred, MyQualityMeasure.evaluate)"
   ]
  },
  {
   "cell_type": "markdown",
   "id": "abstract-crown",
   "metadata": {},
   "source": [
    "## Descriptions and Quality Measures\n",
    "A subgroup description is formed by the conjunction of zero or more descriptors.<br/>\n",
    "A descriptor is a statement in the form \"attribute_name = attribute_value\" for nomilal attributes or \"attribute_name = range\" for numerical attributes.<br/>\n",
    "Example of Description: \" sex = 'Male' AND age = (18, 30] \". <br/>\n",
    "The Top-k subgroup discovery task in this package returns the k subgroup descriptions of the subgroups that exert the greatest disparity.<br>\n",
    "There is no single definition of subgroup disparity, the meaning changes according to the used quality measure.\n",
    "\n",
    "**All metrics in the [fairlearn.metrics](https://fairlearn.github.io/v0.6.0/api_reference/fairlearn.metrics.html) module are symmetrical:** they always return a value between 0 and 1 and do not distinguish whether a subgroup is \\\"positively\\\" or \\\"negatively\\\" dissimilar. For example the descriptions \\\"married = True\\\" and \\\"married = False\\\" will always have the same quality.\n"
   ]
  },
  {
   "cell_type": "markdown",
   "id": "round-dealer",
   "metadata": {},
   "source": [
    "## Implemented Subgroup Disovery Algorithms\n",
    "This package offers two Top-K Subgroup Discovery Algorithms: **BeamSearch** and **DSSD**."
   ]
  },
  {
   "cell_type": "markdown",
   "id": "nonprofit-penetration",
   "metadata": {},
   "source": [
    "### BeamSearch Algorithm\n",
    "BeamSEarch is an euristic algorithm representing a good between the completeness of exhaustive search algorithms and the speed of greedy algorithms. <br/> This trade-off can be adjusted via the beam width. For a beam width that tends to infinity the algorithm becomes an exhaustive search algoritm, instead with a beam width equal to 1 the algorithm becomes a greedy one."
   ]
  },
  {
   "cell_type": "code",
   "execution_count": 12,
   "id": "neutral-representative",
   "metadata": {},
   "outputs": [],
   "source": [
    "# Beam search algorithm usage\n",
    "from fairsd import SubgroupDiscoveryTask\n",
    "from fairsd import BeamSearch\n",
    "task = SubgroupDiscoveryTask(X, y_true, y_pred)\n",
    "resultset = BeamSearch().execute(task)"
   ]
  },
  {
   "cell_type": "markdown",
   "id": "balanced-center",
   "metadata": {},
   "source": [
    "The beam width is 20 by default but it is possible specify a different value:"
   ]
  },
  {
   "cell_type": "code",
   "execution_count": 13,
   "id": "identical-journey",
   "metadata": {},
   "outputs": [
    {
     "name": "stdout",
     "output_type": "stream",
     "text": [
      "education = \"Bachelors\" AND marital-status = \"Married-civ-spouse\" \n",
      "education = \"Bachelors\" AND marital-status = \"Married-civ-spouse\" AND capital-loss = (-infinite, 0.0] \n",
      "education = \"Bachelors\" AND marital-status = \"Married-civ-spouse\" AND capital-gain = (-infinite, 0.0] \n",
      "education = \"Bachelors\" AND marital-status = \"Married-civ-spouse\" AND race = \"White\" \n",
      "education = \"Bachelors\" AND marital-status = \"Married-civ-spouse\" AND sex = \"Male\" \n",
      "\n"
     ]
    }
   ],
   "source": [
    "resultset = BeamSearch(beam_width=10).execute(task)\n",
    "print(resultset)"
   ]
  },
  {
   "cell_type": "markdown",
   "id": "seasonal-triumph",
   "metadata": {},
   "source": [
    "#### Redundancy\n",
    "As we can see, the returned result set is somehow redundant: many variants of, essentially, the same subgroup are presents in it. <br/>\n",
    "Many top-k sg-discovery algorithms suffers of this problem.<br/>\n",
    "To solve this problem it is suggested to use the DSSD algorithm."
   ]
  },
  {
   "cell_type": "markdown",
   "id": "hungarian-brass",
   "metadata": {},
   "source": [
    "### DSSD (Diverse Subgroup Set Discovery) algorithm\n",
    " This algorithm is a variant of the Beam Search Algorithm that also take into account the redundancy of the generated subgroups.<br/>\n",
    "In this package a cover-based redundancy definition is used: roughly, the more tuples two subgroups have in common, the more they are considered redundant. <br/>\n",
    "The degree to which redundancy is mitigated is determined by the alpha parameter. the more a is high, the less the subgroups redundancy is taken into account. Alpha must be between zero and 1, and, the more alpha is high, the less the subgroups redundancy is taken into account.<br>\n",
    "\n",
    "This algorithm is described in details in the Van Leeuwen and Knobbe's paper \"Diverse Subgroup Set Discovery\".\n"
   ]
  },
  {
   "cell_type": "code",
   "execution_count": 14,
   "id": "pleased-elizabeth",
   "metadata": {},
   "outputs": [
    {
     "name": "stdout",
     "output_type": "stream",
     "text": [
      "education = \"Bachelors\" AND marital-status = \"Married-civ-spouse\" \n",
      "education = \"Bachelors\" AND relationship = \"Husband\" \n",
      "education-num = (13.0, +infinite] AND marital-status = \"Married-civ-spouse\" \n",
      "education-num = (13.0, +infinite] AND race = \"Asian-Pac-Islander\" \n",
      "relationship = \"Husband\" AND capital-gain = (7298.0, +infinite] \n",
      "\n"
     ]
    }
   ],
   "source": [
    "# DSSD algorithm usage\n",
    "from fairsd import DSSD\n",
    "resultset = DSSD(beam_width=10, a = 0.9).execute(task) # \"a\" parameter represents alpha, 0.9 by default \n",
    "print(resultset)"
   ]
  },
  {
   "cell_type": "markdown",
   "id": "placed-people",
   "metadata": {},
   "source": [
    "As we can see now, just by looking at the descriptions in the result set, the redundancy sems very attenuated."
   ]
  }
 ],
 "metadata": {
  "kernelspec": {
   "display_name": "Python 3",
   "language": "python",
   "name": "python3"
  },
  "language_info": {
   "codemirror_mode": {
    "name": "ipython",
    "version": 3
   },
   "file_extension": ".py",
   "mimetype": "text/x-python",
   "name": "python",
   "nbconvert_exporter": "python",
   "pygments_lexer": "ipython3",
   "version": "3.8.3"
  }
 },
 "nbformat": 4,
 "nbformat_minor": 5
}
