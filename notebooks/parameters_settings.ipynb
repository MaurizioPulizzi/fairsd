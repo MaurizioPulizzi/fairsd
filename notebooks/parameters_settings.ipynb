{
 "cells": [
  {
   "cell_type": "markdown",
   "id": "compliant-oregon",
   "metadata": {},
   "source": [
    "# Parameters settings for subgroup discovery\n",
    "For this example is used the UCI adult dataset where the objective is to predict whether a person makes more (label 1) or less (0) than $50,000 a year."
   ]
  },
  {
   "cell_type": "code",
   "execution_count": 1,
   "id": "illegal-american",
   "metadata": {},
   "outputs": [],
   "source": [
    "import pandas as pd\n",
    "import numpy as np\n",
    "from sklearn.datasets import fetch_openml\n",
    "from sklearn.tree import DecisionTreeClassifier\n",
    "#Import dataset\n",
    "d = fetch_openml(data_id=1590, as_frame=True)\n",
    "X = d.data\n",
    "d_train=pd.get_dummies(X)\n",
    "y_true = (d.target == '>50K') * 1\n",
    "#training the classifier\n",
    "classifier = DecisionTreeClassifier(min_samples_leaf=10, max_depth=4)\n",
    "classifier.fit(d_train, y_true)\n",
    "#Producing y_pred\n",
    "y_pred = classifier.predict(d_train)"
   ]
  },
  {
   "cell_type": "markdown",
   "id": "private-origin",
   "metadata": {},
   "source": [
    "## SubgroupDiscoveryTask Object\n",
    "This class will contain all the parameters useful for the sg discovery algorithms.<br/>\n",
    "**Parameters:**"
   ]
  },
  {
   "cell_type": "markdown",
   "id": "reverse-kinase",
   "metadata": {},
   "source": [
    "|name |type |default value |description\n",
    "|:-----|:-----|:-----|:----- \n",
    "|X| pandas.Dataframe or <br/> numpy.ndarray| |dataset.\n",
    "|y_true| pandas.Dataframe,<br/> pandas.Series or <br/> numpy.ndarray| |ground truth.\n",
    "|y_pred| pandas.Dataframe,<br/> pandas.Series or <br/> numpy.ndarray| |predicted label.\n",
    "|feature_names| list of strings| None| see below.\n",
    "|nominal_features| list of strings| None| see below.\n",
    "|numeric_features| list of strings| None| see below.\n",
    "|qf | String or <br/>callable object| 'equalized_odds_difference'| see below.\n",
    "|discretizer| String| 'equalfreq'| see below.\n",
    "|num_bins | int| 6|  see below.\n",
    "|dynamic_discretization| bool| True| see below.\n",
    "|result_set_size| int| 5| maximum number of subgroups <br/>that the sg discovery will return.\n",
    "|depth| int| 3| maximum number of descriptors<br/> that a description can contain.\n",
    "|min_quality| float| 0.1| minimum quality<br/> that a subgroup needs to be selected. \n",
    "|min_support| int| 200| minimum size <br/>that a subgroup needs to be selected. "
   ]
  },
  {
   "cell_type": "markdown",
   "id": "geographic-limitation",
   "metadata": {},
   "source": [
    "### X and feature_names\n",
    "X parameters can be a Pandas DataFrame or a Numpy array. If we pass a numpy array we must also pass the feature_names parameter, a list with the column names of X:"
   ]
  },
  {
   "cell_type": "code",
   "execution_count": 2,
   "id": "southwest-chemistry",
   "metadata": {},
   "outputs": [],
   "source": [
    "import fairsd as fsd\n",
    "task=fsd.SubgroupDiscoveryTask(X, y_true, y_pred) # X is a pandas.Dataframe\n",
    "\n",
    "#X as numpy array\n",
    "x_np    = X.to_numpy()\n",
    "columns = list(X.columns)\n",
    "task=fsd.SubgroupDiscoveryTask(X, y_true, y_pred, feature_names = columns)"
   ]
  },
  {
   "cell_type": "markdown",
   "id": "about-storm",
   "metadata": {},
   "source": [
    "### nominal_features and numeric_features\n",
    "These two parameters (string list type) are used to specify which columns of X have nominal values and which ones have numeric values. For attributes that do not appear in either of the two list, the data type will be automatically inferred.<br/>\n",
    "**Example:**<br/>\n",
    "    Let's analize the education-num attribute"
   ]
  },
  {
   "cell_type": "code",
   "execution_count": 3,
   "id": "biological-liabilities",
   "metadata": {},
   "outputs": [
    {
     "name": "stdout",
     "output_type": "stream",
     "text": [
      "[ 1.  2.  3.  4.  5.  6.  7.  8.  9. 10. 11. 12. 13. 14. 15. 16.]\n"
     ]
    }
   ],
   "source": [
    "educationnum_val = X['education-num'].unique()\n",
    "print(np.sort(educationnum_val))"
   ]
  },
  {
   "cell_type": "markdown",
   "id": "naval-leadership",
   "metadata": {},
   "source": [
    "The values of this attribute are integer number from 1 to 16. <br/>\n",
    "The package would treat this attribute as numeric by default, but if we want to treat it as a nominal attribute we can use the nominal_features parameter:"
   ]
  },
  {
   "cell_type": "code",
   "execution_count": 4,
   "id": "unauthorized-oriental",
   "metadata": {},
   "outputs": [],
   "source": [
    "task=fsd.SubgroupDiscoveryTask(X, y_true, y_pred, nominal_features = ['education-num'])"
   ]
  },
  {
   "cell_type": "markdown",
   "id": "emotional-attention",
   "metadata": {},
   "source": [
    "### qf -- quality function\n",
    "This parameter ca be a string or a callable object.<br/>\n",
    "* For the list of the accepted strings see [quality_function_options](https://github.com/MaurizioPulizzi/fairsd/blob/62e8e408801efe1dcc3e19f05fc3ae3181440241/fairsd/algorithms.py#L13)\n",
    "* For a more detailed explanation of the qf parameter see [here]()"
   ]
  },
  {
   "cell_type": "markdown",
   "id": "possible-wilderness",
   "metadata": {},
   "source": [
    "### discretizer\n",
    "This parameter determine the algorithm that will perform the numerical features discretization.\n",
    "It is set to 'equalfreq' by default but other options are possible:<br/>"
   ]
  },
  {
   "cell_type": "markdown",
   "id": "manufactured-algorithm",
   "metadata": {},
   "source": [
    "|dicretizer parameter |description \n",
    "|:-----|:----- \n",
    "|'eualfreq'|approximate equal frequency discretization.\n",
    "|'equalwidth'|equal width discretization.\n",
    "|'mdlp'|minimum description length principle discretization (Fayyad and Irani approach)."
   ]
  },
  {
   "cell_type": "code",
   "execution_count": 5,
   "id": "blocked-morning",
   "metadata": {},
   "outputs": [],
   "source": [
    "#example\n",
    "task=fsd.SubgroupDiscoveryTask(X, y_true, y_pred, discretizer='mdlp')"
   ]
  },
  {
   "cell_type": "markdown",
   "id": "developmental-orbit",
   "metadata": {},
   "source": [
    "### num_bins\n",
    "This parameter determine the maximum number of bins that a numerical feature discretization operation will produce. The number of produced bins could also be less than num_bins due to the min_support constraint:<br/>\n",
    "* the equal-frequency and mdlp discretizations will never produce bins with size lower than min_support, as we know in advance that these bins could never be used to create a description with large enough support.<br/>\n",
    "\n",
    "If a value lower than two is used, the number of bins will be automatically decided.\n"
   ]
  },
  {
   "cell_type": "code",
   "execution_count": 6,
   "id": "focused-patrick",
   "metadata": {},
   "outputs": [],
   "source": [
    "#example\n",
    "task=fsd.SubgroupDiscoveryTask(X, y_true, y_pred, discretizer='equalwidth', num_bins = 4)"
   ]
  },
  {
   "cell_type": "markdown",
   "id": "periodic-glass",
   "metadata": {},
   "source": [
    "### dynamic_discretization\n",
    "If is set to False, the discretization of numeric features will be done only once for each numerical feature before starting the subgroup discovery algorithm.<br/>\n",
    "If instead is set to True, the discretization of numerical featues will be integrated with the subgroup discovery algorithm: will be done each time the algorithm will try to expand a description with a numerical attribute."
   ]
  },
  {
   "cell_type": "code",
   "execution_count": 7,
   "id": "hispanic-boulder",
   "metadata": {},
   "outputs": [],
   "source": [
    "#example\n",
    "task=fsd.SubgroupDiscoveryTask(X, y_true, y_pred, dynamic_discretization = False)"
   ]
  }
 ],
 "metadata": {
  "kernelspec": {
   "display_name": "Python 3",
   "language": "python",
   "name": "python3"
  },
  "language_info": {
   "codemirror_mode": {
    "name": "ipython",
    "version": 3
   },
   "file_extension": ".py",
   "mimetype": "text/x-python",
   "name": "python",
   "nbconvert_exporter": "python",
   "pygments_lexer": "ipython3",
   "version": "3.8.3"
  }
 },
 "nbformat": 4,
 "nbformat_minor": 5
}
