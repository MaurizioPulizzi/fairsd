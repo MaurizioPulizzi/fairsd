{
 "cells": [
  {
   "cell_type": "markdown",
   "id": "proper-mustang",
   "metadata": {},
   "source": [
    "# Quick start -- Use Case Example\n",
    "For this example is used the [UCI adult dataset](https://archive.ics.uci.edu/ml/datasets/Adult) where the objective is to predict whether a person makes more (label 1) or less (0) than $50,000 a year."
   ]
  },
  {
   "cell_type": "code",
   "execution_count": 1,
   "id": "authorized-better",
   "metadata": {},
   "outputs": [],
   "source": [
    "import pandas as pd\n",
    "from sklearn.datasets import fetch_openml\n",
    "from sklearn.tree import DecisionTreeClassifier\n",
    "\n",
    "#Import dataset\n",
    "d = fetch_openml(data_id=1590, as_frame=True)\n",
    "X = d.data\n",
    "d_train=pd.get_dummies(X)\n",
    "y_true = (d.target == '>50K') * 1\n",
    "\n",
    "#training the classifier\n",
    "classifier = DecisionTreeClassifier(min_samples_leaf=10, max_depth=4)\n",
    "classifier.fit(d_train, y_true)\n",
    "\n",
    "#Producing y_pred\n",
    "y_pred = classifier.predict(d_train)"
   ]
  },
  {
   "cell_type": "markdown",
   "id": "adolescent-damage",
   "metadata": {},
   "source": [
    "## Use of the FairSD package\n",
    "Here we use the DSSD (Diverse Subgroup Set Discovery) algorithm and the demographic_parity_difference (from Fairlearn) to find the top-k (k = 5 by default) discriminated subgroups.<br/>\n",
    "The execute method return a **ResultSet object**."
   ]
  },
  {
   "cell_type": "code",
   "execution_count": 2,
   "id": "talented-dynamics",
   "metadata": {},
   "outputs": [],
   "source": [
    "import fairsd as fsd\n",
    "task=fsd.SubgroupDiscoveryTask(X, y_true, y_pred, qf = \"demographic_parity_difference\")\n",
    "result_set=fsd.DSSD().execute(task)"
   ]
  },
  {
   "cell_type": "markdown",
   "id": "liked-paradise",
   "metadata": {},
   "source": [
    "### ResultSet object"
   ]
  },
  {
   "cell_type": "markdown",
   "id": "blind-official",
   "metadata": {},
   "source": [
    "We can transform the result set into a dataframe as shown below. Each row of this dataframe represents a subgroup."
   ]
  },
  {
   "cell_type": "code",
   "execution_count": 3,
   "id": "european-relaxation",
   "metadata": {
    "scrolled": true
   },
   "outputs": [
    {
     "data": {
      "text/html": [
       "<div>\n",
       "<style scoped>\n",
       "    .dataframe tbody tr th:only-of-type {\n",
       "        vertical-align: middle;\n",
       "    }\n",
       "\n",
       "    .dataframe tbody tr th {\n",
       "        vertical-align: top;\n",
       "    }\n",
       "\n",
       "    .dataframe thead th {\n",
       "        text-align: right;\n",
       "    }\n",
       "</style>\n",
       "<table border=\"1\" class=\"dataframe\">\n",
       "  <thead>\n",
       "    <tr style=\"text-align: right;\">\n",
       "      <th></th>\n",
       "      <th>quality</th>\n",
       "      <th>description</th>\n",
       "      <th>size</th>\n",
       "      <th>proportion</th>\n",
       "    </tr>\n",
       "  </thead>\n",
       "  <tbody>\n",
       "    <tr>\n",
       "      <th>0</th>\n",
       "      <td>0.913502</td>\n",
       "      <td>education = \"Bachelors\" AND marital-status = \"...</td>\n",
       "      <td>4136</td>\n",
       "      <td>0.084681</td>\n",
       "    </tr>\n",
       "    <tr>\n",
       "      <th>1</th>\n",
       "      <td>0.913502</td>\n",
       "      <td>education-num = (12.0, 13.0] AND marital-statu...</td>\n",
       "      <td>4136</td>\n",
       "      <td>0.084681</td>\n",
       "    </tr>\n",
       "    <tr>\n",
       "      <th>2</th>\n",
       "      <td>0.866879</td>\n",
       "      <td>capital-gain = (6849.0, +infinite] AND fnlwgt ...</td>\n",
       "      <td>2036</td>\n",
       "      <td>0.041685</td>\n",
       "    </tr>\n",
       "    <tr>\n",
       "      <th>3</th>\n",
       "      <td>0.863130</td>\n",
       "      <td>education = \"Masters\" AND marital-status = \"Ma...</td>\n",
       "      <td>1527</td>\n",
       "      <td>0.031264</td>\n",
       "    </tr>\n",
       "    <tr>\n",
       "      <th>4</th>\n",
       "      <td>0.853604</td>\n",
       "      <td>education-num = (14.0, +infinite] AND marital-...</td>\n",
       "      <td>999</td>\n",
       "      <td>0.020454</td>\n",
       "    </tr>\n",
       "  </tbody>\n",
       "</table>\n",
       "</div>"
      ],
      "text/plain": [
       "    quality                                        description  size  \\\n",
       "0  0.913502  education = \"Bachelors\" AND marital-status = \"...  4136   \n",
       "1  0.913502  education-num = (12.0, 13.0] AND marital-statu...  4136   \n",
       "2  0.866879  capital-gain = (6849.0, +infinite] AND fnlwgt ...  2036   \n",
       "3  0.863130  education = \"Masters\" AND marital-status = \"Ma...  1527   \n",
       "4  0.853604  education-num = (14.0, +infinite] AND marital-...   999   \n",
       "\n",
       "   proportion  \n",
       "0    0.084681  \n",
       "1    0.084681  \n",
       "2    0.041685  \n",
       "3    0.031264  \n",
       "4    0.020454  "
      ]
     },
     "metadata": {},
     "output_type": "display_data"
    }
   ],
   "source": [
    "df=result_set.to_dataframe()\n",
    "display(df)"
   ]
  },
  {
   "cell_type": "markdown",
   "id": "steady-version",
   "metadata": {},
   "source": [
    "We can also print the result set or convert it into a string as shown below."
   ]
  },
  {
   "cell_type": "code",
   "execution_count": 4,
   "id": "continuing-quarter",
   "metadata": {},
   "outputs": [
    {
     "name": "stdout",
     "output_type": "stream",
     "text": [
      "education = \"Bachelors\" AND marital-status = \"Married-civ-spouse\" \n",
      "education-num = (12.0, 13.0] AND marital-status = \"Married-civ-spouse\" \n",
      "capital-gain = (6849.0, +infinite] AND fnlwgt = (24763.0, +infinite] \n",
      "education = \"Masters\" AND marital-status = \"Married-civ-spouse\" \n",
      "education-num = (14.0, +infinite] AND marital-status = \"Married-civ-spouse\" \n",
      "\n"
     ]
    }
   ],
   "source": [
    "resultset_string = result_set.to_string()\n",
    "print(result_set)"
   ]
  },
  {
   "cell_type": "markdown",
   "id": "difficult-rendering",
   "metadata": {},
   "source": [
    "### Generate a feature from a subgroup\n",
    "ResultSet basically contains a list of subgroup descriptions ([Description](https://github.com/MaurizioPulizzi/fairsd/blob/main/fairsd/sgdescription.py#L80) object).<br/>\n",
    "Another intresting method of Resultset object allow us to \n",
    "**select a subgroup X from the result set and automatically generate the feature \"Belong to subgroup X\"**.This is very useful for deepening the analysis on the found subgroups, for example we can use the FairLearn library for this purpose.<br/>\n",
    "An example is shown below:"
   ]
  },
  {
   "cell_type": "code",
   "execution_count": 5,
   "id": "covered-falls",
   "metadata": {},
   "outputs": [
    {
     "name": "stdout",
     "output_type": "stream",
     "text": [
      "sg0\n",
      "False    0.0864985\n",
      "True             1\n",
      "Name: selection_rate, dtype: object\n"
     ]
    }
   ],
   "source": [
    "from fairlearn.metrics import MetricFrame\n",
    "from fairlearn.metrics import selection_rate\n",
    "\n",
    "# Here we generate the feature \"Belong to subgroup n. 0\"\n",
    "# The result is a pandas Series. The name of this Series is \"sg0\".\n",
    "# This series contains an element for each instance of the dataset. Each element is True \n",
    "# iff the istance belong to the subgroup sg0\n",
    "sg_feature = result_set.sg_feature(sg_index=0, X=X)\n",
    "\n",
    "# Here we basically use the FairLearn library to further analyzing the subgroup sg0\n",
    "selection_rate = MetricFrame(selection_rate, y_true, y_pred, sensitive_features=sg_feature)\n",
    "print(selection_rate.by_group)"
   ]
  },
  {
   "cell_type": "markdown",
   "id": "conceptual-battlefield",
   "metadata": {},
   "source": [
    "### Description object\n",
    "We can obtain the subgroup feature also retrieving the relative Description object first:"
   ]
  },
  {
   "cell_type": "code",
   "execution_count": 6,
   "id": "worth-service",
   "metadata": {},
   "outputs": [
    {
     "name": "stdout",
     "output_type": "stream",
     "text": [
      "0        False\n",
      "1        False\n",
      "2        False\n",
      "3        False\n",
      "4        False\n",
      "         ...  \n",
      "48837    False\n",
      "48838    False\n",
      "48839    False\n",
      "48840    False\n",
      "48841    False\n",
      "Length: 48842, dtype: bool\n"
     ]
    }
   ],
   "source": [
    "description0 = result_set.get_description(0)\n",
    "sg_feature = description0.to_boolean_array(dataset = X)\n",
    "print(sg_feature)"
   ]
  },
  {
   "cell_type": "markdown",
   "id": "portuguese-eating",
   "metadata": {},
   "source": [
    "Once we have the Description object of a subgroup, we can also extract other information of the subgroup.<br/>\n",
    "We can:\n",
    " * convert the Description object into a string\n",
    " * retrieve the size of the subgroup\n",
    " * retrieve the quality (discrimination measure) of the subgroup\n",
    " * retrieve the names of the attributes that compose the subgroup description"
   ]
  },
  {
   "cell_type": "code",
   "execution_count": 7,
   "id": "pleased-chancellor",
   "metadata": {},
   "outputs": [
    {
     "name": "stdout",
     "output_type": "stream",
     "text": [
      "education = \"Bachelors\" AND marital-status = \"Married-civ-spouse\" \n",
      "4136\n",
      "0.913501543416991\n",
      "['education', 'marital-status']\n"
     ]
    }
   ],
   "source": [
    "# String conversion\n",
    "str_descr = description0.to_string()\n",
    "print( str_descr ) # also print(description0) works\n",
    "\n",
    "# Size\n",
    "print( description0.size() )\n",
    "\n",
    "# Quality\n",
    "print( description0.get_quality() )\n",
    "\n",
    "# Attribute names\n",
    "print( description0.get_attributes() )"
   ]
  }
 ],
 "metadata": {
  "kernelspec": {
   "display_name": "Python 3",
   "language": "python",
   "name": "python3"
  },
  "language_info": {
   "codemirror_mode": {
    "name": "ipython",
    "version": 3
   },
   "file_extension": ".py",
   "mimetype": "text/x-python",
   "name": "python",
   "nbconvert_exporter": "python",
   "pygments_lexer": "ipython3",
   "version": "3.8.3"
  }
 },
 "nbformat": 4,
 "nbformat_minor": 5
}
