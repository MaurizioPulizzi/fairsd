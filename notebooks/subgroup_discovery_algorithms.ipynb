{
 "cells": [
  {
   "cell_type": "markdown",
   "id": "divided-marketing",
   "metadata": {},
   "source": [
    "# Implemented Subgroup Disovery Algorithms\n",
    "For this example is used the UCI adult dataset where the objective is to predict whether a person makes more (label 1) or less (0) than $50,000 a year."
   ]
  },
  {
   "cell_type": "code",
   "execution_count": 1,
   "id": "becoming-diabetes",
   "metadata": {},
   "outputs": [],
   "source": [
    "import pandas as pd\n",
    "import numpy as np\n",
    "from sklearn.datasets import fetch_openml\n",
    "from sklearn.tree import DecisionTreeClassifier\n",
    "#Import dataset\n",
    "d = fetch_openml(data_id=1590, as_frame=True)\n",
    "X = d.data\n",
    "d_train=pd.get_dummies(X)\n",
    "y_true = (d.target == '>50K') * 1\n",
    "#training the classifier\n",
    "classifier = DecisionTreeClassifier(min_samples_leaf=10, max_depth=4)\n",
    "classifier.fit(d_train, y_true)\n",
    "#Producing y_pred\n",
    "y_pred = classifier.predict(d_train)"
   ]
  },
  {
   "cell_type": "markdown",
   "id": "aquatic-smoke",
   "metadata": {},
   "source": [
    "This package offers two Top-K Subgroup Discovery Algorithms: **BeamSearch** and **DSSD**."
   ]
  },
  {
   "cell_type": "markdown",
   "id": "nonprofit-penetration",
   "metadata": {},
   "source": [
    "## BeamSearch Algorithm\n",
    "BeamSEarch is an euristic algorithm representing a good between the completeness of exhaustive search algorithms and the speed of greedy algorithms. <br/> This trade-off can be adjusted via the beam width. For a beam width that tends to infinity the algorithm becomes an exhaustive search algoritm, instead with a beam width equal to 1 the algorithm becomes a greedy one."
   ]
  },
  {
   "cell_type": "code",
   "execution_count": 2,
   "id": "accompanied-lodge",
   "metadata": {},
   "outputs": [],
   "source": [
    "# Beam search algorithm usage\n",
    "from fairsd import SubgroupDiscoveryTask\n",
    "from fairsd import BeamSearch\n",
    "task = SubgroupDiscoveryTask(X, y_true, y_pred)\n",
    "resultset = BeamSearch().execute(task)"
   ]
  },
  {
   "cell_type": "markdown",
   "id": "balanced-center",
   "metadata": {},
   "source": [
    "The beam width is 20 by default but it is possible specify a different value:"
   ]
  },
  {
   "cell_type": "code",
   "execution_count": 3,
   "id": "systematic-possession",
   "metadata": {},
   "outputs": [
    {
     "name": "stdout",
     "output_type": "stream",
     "text": [
      "education = \"Bachelors\" AND marital-status = \"Married-civ-spouse\" \n",
      "education = \"Bachelors\" AND marital-status = \"Married-civ-spouse\" AND capital-loss = (-infinite, 0.0] \n",
      "education = \"Bachelors\" AND marital-status = \"Married-civ-spouse\" AND capital-gain = (-infinite, 0.0] \n",
      "education = \"Bachelors\" AND marital-status = \"Married-civ-spouse\" AND race = \"White\" \n",
      "education = \"Bachelors\" AND marital-status = \"Married-civ-spouse\" AND sex = \"Male\" \n",
      "\n"
     ]
    }
   ],
   "source": [
    "resultset = BeamSearch(beam_width=10).execute(task)\n",
    "print(resultset)"
   ]
  },
  {
   "cell_type": "markdown",
   "id": "seasonal-triumph",
   "metadata": {},
   "source": [
    "### Redundancy\n",
    "As we can see, the returned result set is somehow redundant: many variants of, essentially, the same discriminated subgroup are presents in it. <br/>\n",
    "Many top-k sg-discovery algorithms suffers of this problem.<br/>\n",
    "To solve this problem it is suggested to use the DSSD algorithm."
   ]
  },
  {
   "cell_type": "markdown",
   "id": "hungarian-brass",
   "metadata": {},
   "source": [
    "## DSSD (Diverse Subgroup Set Discovery) algorithm\n",
    " This algorithm is a variant of the Beam Search Algorithm that also take into account the redundancy of the generated subgroups.<br/>\n",
    "In this package a cover-based redundancy definition is used: roughly, the more tuples two subgroups have in common, the more they are considered redundant. <br/>\n",
    "The degree to which redundancy is mitigated is determined by the alpha parameter. the more a is high, the less the subgroups redundancy is taken into account. Alpha must be between zero and 1, and, the more alpha is high, the less the subgroups redundancy is taken into account.<br>\n",
    "\n",
    "This algorithm is described in details in the Van Leeuwen and Knobbe's paper \"Diverse Subgroup Set Discovery\".\n"
   ]
  },
  {
   "cell_type": "code",
   "execution_count": 4,
   "id": "therapeutic-spelling",
   "metadata": {},
   "outputs": [
    {
     "name": "stdout",
     "output_type": "stream",
     "text": [
      "education = \"Bachelors\" AND marital-status = \"Married-civ-spouse\" \n",
      "education = \"Bachelors\" AND relationship = \"Husband\" \n",
      "education-num = (13.0, +infinite] AND marital-status = \"Married-civ-spouse\" \n",
      "education-num = (13.0, +infinite] AND race = \"Asian-Pac-Islander\" \n",
      "relationship = \"Husband\" AND capital-gain = (7298.0, +infinite] \n",
      "\n"
     ]
    }
   ],
   "source": [
    "# DSSD algorithm usage\n",
    "from fairsd import DSSD\n",
    "resultset = DSSD(beam_width=10, a = 0.9).execute(task) # \"a\" parameter represents alpha, 0.9 by default \n",
    "print(resultset)"
   ]
  },
  {
   "cell_type": "markdown",
   "id": "placed-people",
   "metadata": {},
   "source": [
    "As we can see now, just by looking at the descriptions in the result set, the redundancy sems very attenuated."
   ]
  }
 ],
 "metadata": {
  "kernelspec": {
   "display_name": "Python 3",
   "language": "python",
   "name": "python3"
  },
  "language_info": {
   "codemirror_mode": {
    "name": "ipython",
    "version": 3
   },
   "file_extension": ".py",
   "mimetype": "text/x-python",
   "name": "python",
   "nbconvert_exporter": "python",
   "pygments_lexer": "ipython3",
   "version": "3.8.3"
  }
 },
 "nbformat": 4,
 "nbformat_minor": 5
}
