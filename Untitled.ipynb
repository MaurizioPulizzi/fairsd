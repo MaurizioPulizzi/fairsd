{
 "cells": [
  {
   "cell_type": "code",
   "execution_count": 1,
   "id": "authorized-better",
   "metadata": {},
   "outputs": [],
   "source": [
    "from sklearn.datasets import fetch_openml\n",
    "import pandas as pd\n",
    "from sklearn.tree import DecisionTreeClassifier\n",
    "from sklearn.metrics import accuracy_score\n",
    "import fairsd.subgroupdiscovery as dsd\n",
    "\n",
    "#Import dataset\n",
    "d = fetch_openml(data_id=1590, as_frame=True)\n",
    "dataset = d.data\n",
    "d_train=pd.get_dummies(dataset)\n",
    "y_true = (d.target == '>50K') * 1\n",
    "\n",
    "#training the classifier\n",
    "classifier = DecisionTreeClassifier(min_samples_leaf=10, max_depth=4)\n",
    "classifier.fit(d_train, y_true)\n",
    "\n",
    "#producing y_pred\n",
    "y_pred = classifier.predict(d_train)\n",
    "\n"
   ]
  },
  {
   "cell_type": "markdown",
   "id": "adolescent-damage",
   "metadata": {},
   "source": [
    "# Use of the FairSD package\n",
    "* the BeamSearch algorithm is used to find the most discriminated subgroups\n",
    "* **a function of the fairlearn.metrics module is used as a quality function**\n",
    "* the execute method return a **ResultSet object**"
   ]
  },
  {
   "cell_type": "code",
   "execution_count": 3,
   "id": "talented-dynamics",
   "metadata": {},
   "outputs": [
    {
     "name": "stdout",
     "output_type": "stream",
     "text": [
      "<class 'fairsd.subgroupdiscovery.ResultSet'>\n"
     ]
    }
   ],
   "source": [
    "from fairlearn.metrics import demographic_parity_difference\n",
    "\n",
    "task=dsd.SubgroupDiscoveryTask(dataset, y_true, y_pred, qf = demographic_parity_difference)\n",
    "result_set=dsd.BeamSearch(beam_width=10).execute(task)\n",
    "\n",
    "print(type(result_set))\n"
   ]
  },
  {
   "cell_type": "markdown",
   "id": "liked-paradise",
   "metadata": {},
   "source": [
    "## What can we do with this returned ResultSet object?"
   ]
  },
  {
   "cell_type": "markdown",
   "id": "blind-official",
   "metadata": {},
   "source": [
    "1) We can easily transform this object into a dataframe as shown below. Each row of this dataframe represents a subgroup."
   ]
  },
  {
   "cell_type": "code",
   "execution_count": 4,
   "id": "european-relaxation",
   "metadata": {
    "scrolled": true
   },
   "outputs": [
    {
     "data": {
      "text/html": [
       "<div>\n",
       "<style scoped>\n",
       "    .dataframe tbody tr th:only-of-type {\n",
       "        vertical-align: middle;\n",
       "    }\n",
       "\n",
       "    .dataframe tbody tr th {\n",
       "        vertical-align: top;\n",
       "    }\n",
       "\n",
       "    .dataframe thead th {\n",
       "        text-align: right;\n",
       "    }\n",
       "</style>\n",
       "<table border=\"1\" class=\"dataframe\">\n",
       "  <thead>\n",
       "    <tr style=\"text-align: right;\">\n",
       "      <th></th>\n",
       "      <th>quality</th>\n",
       "      <th>description</th>\n",
       "      <th>size_sg</th>\n",
       "      <th>relative_size_sg</th>\n",
       "      <th>target_share_sg</th>\n",
       "    </tr>\n",
       "  </thead>\n",
       "  <tbody>\n",
       "    <tr>\n",
       "      <th>sg0</th>\n",
       "      <td>0.814013</td>\n",
       "      <td>capital-gain = '(None, 5013.0]'</td>\n",
       "      <td>944</td>\n",
       "      <td>0.944</td>\n",
       "      <td>0.199153</td>\n",
       "    </tr>\n",
       "    <tr>\n",
       "      <th>sg1</th>\n",
       "      <td>0.659905</td>\n",
       "      <td>capital-gain = '(None, 5013.0]' AND capital-lo...</td>\n",
       "      <td>917</td>\n",
       "      <td>0.917</td>\n",
       "      <td>0.183206</td>\n",
       "    </tr>\n",
       "    <tr>\n",
       "      <th>sg2</th>\n",
       "      <td>0.645292</td>\n",
       "      <td>capital-gain = '(None, 5013.0]' AND fnlwgt = '...</td>\n",
       "      <td>932</td>\n",
       "      <td>0.932</td>\n",
       "      <td>0.201717</td>\n",
       "    </tr>\n",
       "    <tr>\n",
       "      <th>sg3</th>\n",
       "      <td>0.581699</td>\n",
       "      <td>education-num = '(None, 11.0]' AND capital-gai...</td>\n",
       "      <td>694</td>\n",
       "      <td>0.694</td>\n",
       "      <td>0.138329</td>\n",
       "    </tr>\n",
       "    <tr>\n",
       "      <th>sg4</th>\n",
       "      <td>0.568322</td>\n",
       "      <td>education-num = '(11.0, None]' AND age = '(26....</td>\n",
       "      <td>235</td>\n",
       "      <td>0.235</td>\n",
       "      <td>0.480851</td>\n",
       "    </tr>\n",
       "    <tr>\n",
       "      <th>sg5</th>\n",
       "      <td>0.565667</td>\n",
       "      <td>education-num = '(11.0, None]' AND age = '(26....</td>\n",
       "      <td>236</td>\n",
       "      <td>0.236</td>\n",
       "      <td>0.478814</td>\n",
       "    </tr>\n",
       "    <tr>\n",
       "      <th>sg6</th>\n",
       "      <td>0.564394</td>\n",
       "      <td>education-num = '(11.0, None]' AND age = '(26....</td>\n",
       "      <td>208</td>\n",
       "      <td>0.208</td>\n",
       "      <td>0.490385</td>\n",
       "    </tr>\n",
       "    <tr>\n",
       "      <th>sg7</th>\n",
       "      <td>0.563291</td>\n",
       "      <td>education-num = '(None, 11.0]' AND fnlwgt = '(...</td>\n",
       "      <td>684</td>\n",
       "      <td>0.684</td>\n",
       "      <td>0.140351</td>\n",
       "    </tr>\n",
       "    <tr>\n",
       "      <th>sg8</th>\n",
       "      <td>0.559349</td>\n",
       "      <td>capital-gain = '(None, 5013.0]' AND fnlwgt = '...</td>\n",
       "      <td>905</td>\n",
       "      <td>0.905</td>\n",
       "      <td>0.185635</td>\n",
       "    </tr>\n",
       "    <tr>\n",
       "      <th>sg9</th>\n",
       "      <td>0.554517</td>\n",
       "      <td>education-num = '(None, 11.0]' AND capital-los...</td>\n",
       "      <td>679</td>\n",
       "      <td>0.679</td>\n",
       "      <td>0.128130</td>\n",
       "    </tr>\n",
       "  </tbody>\n",
       "</table>\n",
       "</div>"
      ],
      "text/plain": [
       "      quality                                        description  size_sg  \\\n",
       "sg0  0.814013                   capital-gain = '(None, 5013.0]'       944   \n",
       "sg1  0.659905  capital-gain = '(None, 5013.0]' AND capital-lo...      917   \n",
       "sg2  0.645292  capital-gain = '(None, 5013.0]' AND fnlwgt = '...      932   \n",
       "sg3  0.581699  education-num = '(None, 11.0]' AND capital-gai...      694   \n",
       "sg4  0.568322  education-num = '(11.0, None]' AND age = '(26....      235   \n",
       "sg5  0.565667  education-num = '(11.0, None]' AND age = '(26....      236   \n",
       "sg6  0.564394  education-num = '(11.0, None]' AND age = '(26....      208   \n",
       "sg7  0.563291  education-num = '(None, 11.0]' AND fnlwgt = '(...      684   \n",
       "sg8  0.559349  capital-gain = '(None, 5013.0]' AND fnlwgt = '...      905   \n",
       "sg9  0.554517  education-num = '(None, 11.0]' AND capital-los...      679   \n",
       "\n",
       "     relative_size_sg  target_share_sg  \n",
       "sg0             0.944         0.199153  \n",
       "sg1             0.917         0.183206  \n",
       "sg2             0.932         0.201717  \n",
       "sg3             0.694         0.138329  \n",
       "sg4             0.235         0.480851  \n",
       "sg5             0.236         0.478814  \n",
       "sg6             0.208         0.490385  \n",
       "sg7             0.684         0.140351  \n",
       "sg8             0.905         0.185635  \n",
       "sg9             0.679         0.128130  "
      ]
     },
     "metadata": {},
     "output_type": "display_data"
    }
   ],
   "source": [
    "df=result_set.to_dataframe()\n",
    "display(df)"
   ]
  },
  {
   "cell_type": "markdown",
   "id": "difficult-rendering",
   "metadata": {},
   "source": [
    "2) **We can select a subgroup X from the result set and automatically generate the feature \"Belong to subgroup X\"**. This is very useful for deepening the analysis on this subgroup, for example we can use the FairLearn library for this purpose.\n",
    "An example is shown below:"
   ]
  },
  {
   "cell_type": "code",
   "execution_count": 5,
   "id": "covered-falls",
   "metadata": {},
   "outputs": [
    {
     "name": "stdout",
     "output_type": "stream",
     "text": [
      "sg0\n",
      "False    0.946429\n",
      "True     0.132415\n",
      "Name: selection_rate, dtype: object\n"
     ]
    }
   ],
   "source": [
    "from fairlearn.metrics import MetricFrame\n",
    "from fairlearn.metrics import selection_rate\n",
    "\n",
    "# Here we generate the feature \"Belong to subgroup n. 0\"\n",
    "# The result is a pandas Series. The name of this Series is \"sg0\".\n",
    "# This series contains an element for each instance of the dataset. Each element is True \n",
    "# iff the istance belong to the subgroup sg0\n",
    "sg_feature = result_set.extract_sg_feature(sg_number=0, data=dataset)\n",
    "\n",
    "# Here we basically use the FairLearn library to further analyzing the subgroup sg0\n",
    "selection_rate = MetricFrame(selection_rate, y_true, y_pred, sensitive_features=sg_feature)\n",
    "print(selection_rate.by_group)"
   ]
  }
 ],
 "metadata": {
  "kernelspec": {
   "display_name": "Python 3",
   "language": "python",
   "name": "python3"
  },
  "language_info": {
   "codemirror_mode": {
    "name": "ipython",
    "version": 3
   },
   "file_extension": ".py",
   "mimetype": "text/x-python",
   "name": "python",
   "nbconvert_exporter": "python",
   "pygments_lexer": "ipython3",
   "version": "3.8.3"
  }
 },
 "nbformat": 4,
 "nbformat_minor": 5
}
